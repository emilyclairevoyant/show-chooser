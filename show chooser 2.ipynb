{
 "cells": [
  {
   "cell_type": "code",
   "execution_count": 1,
   "metadata": {},
   "outputs": [],
   "source": [
    "# Import Dependencies\n",
    "import random"
   ]
  },
  {
   "cell_type": "code",
   "execution_count": 4,
   "metadata": {},
   "outputs": [],
   "source": [
    "# Define variables for randomizing\n",
    "streaming_services = ['Netflix', 'Hulu', 'Amazon Prime Video', 'Max', 'Peacock', 'Tubi']\n",
    "saved_titles = {'Netflix': ['A Good Girls Guide to Murder', 'A Discover of Witches', 'Interview with a Vampire', 'Emily in Paris', 'Baby Reindeer', 'Pop Star Academy', 'Americas Sweethearts', 'Dead Boy Detectives', 'One Day', 'Call The Midwife', 'The Fall of the House of Usher', 'Geek Girl', 'Midnight Mass', 'Six Feet Under', 'My Life With The Walter Boys', 'Mindhunter', 'This Is Us', 'This Is Us', 'Maid', 'Anyone But You', 'Queen Charlotte', 'The Midnight Club', 'Outer Banks', 'Your Honor', 'Ginny and Georgia', 'Elite', 'Never Have I Ever', 'Virgin River', 'No Hard Feelings', 'Grace and Frankie', 'New Amsterdam', 'American Nightmare', 'Resident Alien', 'The Accident', 'Unbelievable', 'Fool Me Once', 'The Mole', 'The Society', 'The Watcher', 'The Autopsy of Jane Doe', 'Raising Voices', 'The Tearsmith', 'Dear Child', 'The OA', 'Madame Web', 'The Night Agent', 'Miller\\'s Girl', 'Tires', 'One Day at a Time', 'Unsolved Mysteries', 'Leave The World Behind', 'The Unbreakable Kimmy Schmidt', 'Inside Man', 'The Tourist', 'Black Mirror', 'Queer Eye', 'Alice in Borderland', 'Dead to Me', 'Glitch', 'Archive 81', 'Wynonna Earp', 'Pieces of Her', 'A Man Called Otto', 'Till Murder Do Us Part', 'Lover Stalker Killer', 'Lockwood and Co', 'Teenage Bounty Hunters', 'Devil in Ohio', 'AJ and the Queen', 'Locked Up', 'Missing: The Lucie Blackman Case', 'Do Revenge', 'Cold Case Files', 'Ouija', 'The School for Good and Evil', 'The Recruit', 'Jewish Matchmaking', 'Cable Girls', 'Warrior Nun', 'Stay Close', 'Murdaugh Murders', 'Fake Profile', 'Grand Army', 'Call My Agent', 'Glamorous', 'What If', 'Sins of our Mother', 'Boo Bitch', 'Cold Copy', 'A Part of You', 'Wanderlust', 'Red Rose', 'Hollywood', 'Reptile', '60 Days In', 'Everything Sucks', 'A Nearly Normal Family', 'The Imperfects', 'Smiley', 'The Devil\\'s Plan', 'Mer Li', 'The House of Flowers', 'Encounters', 'Halston', 'Fair Play', 'Dancing Queen', 'Daughter From Another Mother', 'I Think You Should Leave', 'New Heights', 'Sex Life', 'Gypsy', 'Catching Killers', 'Monsters Inside', 'Brain On Fire', 'Special', 'Say I Do', 'Master of None', 'Cunk On Earth', 'Luckiest Girl Alive', 'There\\'s Someone Inside Your House', 'Who Killed Jill Dano?', 'Spy Ops', 'Ballerina', 'Burning Body', 'Why Did You Kill Me?', 'Hypnotic', 'Queer Eye: We\\'re in Japan!', 'Ehrengard', 'Prom', 'Someone Has To Die', 'Getting Curious with Jonathan Van Ness', 'The Night Logan Woke Up, 'Carol', 'Kaos', 'The Boys In The Band'],'Hulu': ['Under the Bridge', 'How I Caught My Killer', 'Escaping Polygamy', 'Mastermind', 'Cruel Summer', 'The Artful Dodger', 'Daughters of the Cult', 'The Bear','Wild Crime', 'Accused', 'Married at First Sight', 'The Lesson is Murder', 'History of the World', 'I Dated A Psycho', 'Web of Death', 'Kids Behind Bars', 'The Patient', 'I Survived a Serial Killer', 'Stolen Youth', 'Still Missing Morgan', 'Tell Me Lies', 'Under the Banner of Heaven', 'The Act', 'Normal People', 'The Great', 'Killer Cases', 'American Crime Story', 'Abbott Elementary', 'The Girl From Plainville', 'Sleepy Hollow', 'The Hardy Boys', 'Light As A Feather', 'AKA Jane Roe', 'The L Word', 'Keep This Between Us', 'The Watchful Eye', 'Psychic Kids', 'Poor Things', 'Eileen', 'Dead Poet'\\s Society', 'Pose', 'Portrait of a Lady on Fire'],'Amazon Prime Video': ['Longlegs', 'Challengers', 'The Truman Show', 'My Lady Jane', 'La Vida Misma', 'Vanity Fair', 'Oppenheimer', 'Sound of Metal', 'Bates Motel', 'Truthseekers', 'Grave Encounters', 'Last Night in Soho', 'The Blair Witch Project', 'Upgraded', 'A League Of Their Own', 'How To Date Billy Walsh', 'Criminal Minds: Evolution', 'My Fault', 'The Lie', 'A Quiet PLace', 'Us', 'Nefarious', 'Totally Killer', 'Asteroid City', 'Dexter', 'Rupaul\\'s Drag Race', 'House', 'Yellowjackets', 'Dawson\\'s Creek', 'X', 'Upload', 'The Wilds', 'Shiny Happy People', 'Fleabag', 'The Summer I Turned Pretty', 'Bodies Bodies Bodies', 'Pearl', 'Foe', 'The Other Zoey', 'Thelma', 'Imagine Me & You', 'Booksmart', 'Good Omens', 'Velvet Goldmine', 'Pariah, 'Bound', 'My Own Private Idaho', 'And Then We Danced', 'The Adventures of Priscilla, Queen of the Desert', 'Fried Green Tomatoes', 'Rope', 'Rebel Without a Cause', 'Pride', 'Moonlight', 'Maxxine', 'Saving Face'],'Max' : ['Signs Of A Psychopath', 'The Gilded Age', 'Deadly Influence', 'Forbiden History', 'How It Really Happened', 'The Regime', 'Six Schizophrenic Brothers', 'American Monster', 'Deadpool', 'Brokeback Mountain', 'The Watermelon Woman', 'Happy Together', 'Paris Is Burning'],'Peacock' : ['Found', 'Modern Family', 'One Of Us Is Lying', 'Dr Death', 'The Traitors', 'The Miseducation of Cameron Post', 'Kajillionaire'], 'Tubi': ['But I\\'m a Cheerleader', 'Rafiki', 'The Children\\'s Hour',]}\n",
    "random_service = random.choice(streaming_services)\n",
    "random_title = random.choice(saved_titles[random_service])\n",
    "\n"
   ]
  },
  {
   "cell_type": "code",
   "execution_count": 5,
   "metadata": {},
   "outputs": [
    {
     "name": "stdout",
     "output_type": "stream",
     "text": [
      "Random streaming service: Hulu\n",
      "Random saved title: The Bear\n"
     ]
    }
   ],
   "source": [
    "# Print results\n",
    "print(f\"Random streaming service: {random_service}\")\n",
    "print(f\"Random saved title: {random_title}\")"
   ]
  }
 ],
 "metadata": {
  "kernelspec": {
   "display_name": "pythondata",
   "language": "python",
   "name": "python3"
  },
  "language_info": {
   "codemirror_mode": {
    "name": "ipython",
    "version": 3
   },
   "file_extension": ".py",
   "mimetype": "text/x-python",
   "name": "python",
   "nbconvert_exporter": "python",
   "pygments_lexer": "ipython3",
   "version": "3.10.14"
  }
 },
 "nbformat": 4,
 "nbformat_minor": 2
}
